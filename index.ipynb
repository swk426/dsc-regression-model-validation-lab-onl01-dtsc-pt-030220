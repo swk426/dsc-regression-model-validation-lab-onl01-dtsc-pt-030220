{
 "cells": [
  {
   "cell_type": "markdown",
   "metadata": {},
   "source": [
    "# Regression Model Validation - Lab\n",
    "\n",
    "## Introduction\n",
    "\n",
    "In this lab, you'll be able to validate your Boston Housing data model using train-test split.\n",
    "\n",
    "\n",
    "## Objectives\n",
    "\n",
    "You will be able to:\n",
    "\n",
    "- Compare training and testing errors to determine if model is over or underfitting\n"
   ]
  },
  {
   "cell_type": "markdown",
   "metadata": {},
   "source": [
    "## Let's use our Boston Housing Data again!\n",
    "\n",
    "This time, let's only include the variables that were previously selected using recursive feature elimination. We included the code to preprocess below."
   ]
  },
  {
   "cell_type": "code",
   "execution_count": 1,
   "metadata": {},
   "outputs": [],
   "source": [
    "import pandas as pd\n",
    "import numpy as np\n",
    "import matplotlib.pyplot as plt\n",
    "%matplotlib inline\n",
    "from sklearn.datasets import load_boston\n",
    "\n",
    "boston = load_boston()\n",
    "\n",
    "boston_features = pd.DataFrame(boston.data, columns = boston.feature_names)\n",
    "b = boston_features['B']\n",
    "logdis = np.log(boston_features['DIS'])\n",
    "loglstat = np.log(boston_features['LSTAT'])\n",
    "\n",
    "# Min-Max scaling\n",
    "boston_features['B'] = (b-min(b))/(max(b)-min(b))\n",
    "boston_features['DIS'] = (logdis-min(logdis))/(max(logdis)-min(logdis))\n",
    "\n",
    "# Standardization\n",
    "boston_features['LSTAT'] = (loglstat-np.mean(loglstat))/np.sqrt(np.var(loglstat))"
   ]
  },
  {
   "cell_type": "code",
   "execution_count": 2,
   "metadata": {},
   "outputs": [],
   "source": [
    "X = boston_features[['CHAS', 'RM', 'DIS', 'B', 'LSTAT']]\n",
    "y = pd.DataFrame(boston.target, columns = ['target'])"
   ]
  },
  {
   "cell_type": "markdown",
   "metadata": {},
   "source": [
    "### Perform a train-test split"
   ]
  },
  {
   "cell_type": "code",
   "execution_count": 3,
   "metadata": {},
   "outputs": [],
   "source": [
    "# Split the data into training and test sets. Use the default split size\n",
    "from sklearn.model_selection import train_test_split\n",
    "X_train, X_test, y_train, y_test = train_test_split(X, y, test_size=0.2, random_state=42)"
   ]
  },
  {
   "cell_type": "code",
   "execution_count": 4,
   "metadata": {},
   "outputs": [
    {
     "name": "stdout",
     "output_type": "stream",
     "text": [
      "404 102 404 102\n"
     ]
    }
   ],
   "source": [
    "print(len(X_train), len(X_test), len(y_train), len(y_test))"
   ]
  },
  {
   "cell_type": "markdown",
   "metadata": {},
   "source": [
    "### Apply your model to the train set"
   ]
  },
  {
   "cell_type": "code",
   "execution_count": 5,
   "metadata": {},
   "outputs": [],
   "source": [
    "# Importing and initialize the linear regression model class\n",
    "from sklearn.linear_model import LinearRegression\n",
    "linreg = LinearRegression()"
   ]
  },
  {
   "cell_type": "code",
   "execution_count": 6,
   "metadata": {},
   "outputs": [
    {
     "data": {
      "text/plain": [
       "LinearRegression(copy_X=True, fit_intercept=True, n_jobs=None, normalize=False)"
      ]
     },
     "execution_count": 6,
     "metadata": {},
     "output_type": "execute_result"
    }
   ],
   "source": [
    "# Fit the model to train data\n",
    "linreg.fit(X_train, y_train)"
   ]
  },
  {
   "cell_type": "markdown",
   "metadata": {},
   "source": [
    "### Calculate predictions on training and test sets"
   ]
  },
  {
   "cell_type": "code",
   "execution_count": 7,
   "metadata": {},
   "outputs": [
    {
     "name": "stdout",
     "output_type": "stream",
     "text": [
      "y_hat_train:  [[11.21607653]\n",
      " [22.61062447]\n",
      " [22.53284435]\n",
      " [10.02593357]\n",
      " [19.72846837]\n",
      " [29.50441465]\n",
      " [23.13459336]\n",
      " [26.52539814]\n",
      " [ 9.18427975]\n",
      " [18.06789383]\n",
      " [25.58223345]\n",
      " [24.32021304]\n",
      " [31.24970248]\n",
      " [15.92063062]\n",
      " [32.61633247]\n",
      " [13.6366085 ]\n",
      " [20.47201   ]\n",
      " [26.81987118]\n",
      " [15.73436071]\n",
      " [27.32582487]\n",
      " [11.23938886]\n",
      " [22.77726926]\n",
      " [26.82931152]\n",
      " [24.24636118]\n",
      " [26.20007721]\n",
      " [34.86078014]\n",
      " [18.87332283]\n",
      " [38.20283616]\n",
      " [12.15393962]\n",
      " [25.24317739]\n",
      " [19.09606874]\n",
      " [18.17586107]\n",
      " [10.50481145]\n",
      " [19.09164211]\n",
      " [23.23492936]\n",
      " [32.25518576]\n",
      " [31.01621046]\n",
      " [16.37046107]\n",
      " [17.67662025]\n",
      " [27.94518122]\n",
      " [19.39621009]\n",
      " [13.5575578 ]\n",
      " [11.62295176]\n",
      " [22.59883672]\n",
      " [22.10012955]\n",
      " [18.49030612]\n",
      " [14.14723842]\n",
      " [40.90551148]\n",
      " [15.98894265]\n",
      " [19.48998722]\n",
      " [28.92002525]\n",
      " [21.79100991]\n",
      " [19.7853638 ]\n",
      " [25.42802841]\n",
      " [16.14327475]\n",
      " [27.01717059]\n",
      " [36.90058367]\n",
      " [15.14030482]\n",
      " [20.18098535]\n",
      " [16.39939741]\n",
      " [21.03859091]\n",
      " [26.80026074]\n",
      " [21.7853882 ]\n",
      " [22.26836124]\n",
      " [37.93984974]\n",
      " [18.21050535]\n",
      " [16.47974079]\n",
      " [14.83939119]\n",
      " [20.81398914]\n",
      " [23.10799723]\n",
      " [22.73154631]\n",
      " [35.16487942]\n",
      " [20.8335261 ]\n",
      " [17.64223205]\n",
      " [24.01777258]\n",
      " [31.02656089]\n",
      " [37.57876223]\n",
      " [26.63132431]\n",
      " [10.03509395]\n",
      " [ 8.70983373]\n",
      " [13.801641  ]\n",
      " [21.13721699]\n",
      " [35.89647168]\n",
      " [29.31982435]\n",
      " [14.99154679]\n",
      " [ 8.65047379]\n",
      " [39.9380575 ]\n",
      " [22.16070173]\n",
      " [20.30278633]\n",
      " [22.53372609]\n",
      " [17.58494908]\n",
      " [18.88825802]\n",
      " [14.61379593]\n",
      " [30.60807478]\n",
      " [26.93416994]\n",
      " [19.57843469]\n",
      " [20.49557702]\n",
      " [11.85346534]\n",
      " [25.91060713]\n",
      " [20.62680626]\n",
      " [28.40440921]\n",
      " [30.31724556]\n",
      " [24.49648037]\n",
      " [21.79256757]\n",
      " [21.87599809]\n",
      " [46.42502267]\n",
      " [31.71482178]\n",
      " [33.81687344]\n",
      " [26.70332103]\n",
      " [28.8239453 ]\n",
      " [14.33742893]\n",
      " [38.75548941]\n",
      " [18.78655525]\n",
      " [26.7493547 ]\n",
      " [24.14719796]\n",
      " [20.47005802]\n",
      " [24.41012167]\n",
      " [15.03587049]\n",
      " [38.09347659]\n",
      " [32.70995374]\n",
      " [34.51086901]\n",
      " [ 9.1752694 ]\n",
      " [19.06085976]\n",
      " [20.19754814]\n",
      " [34.17249944]\n",
      " [18.86347049]\n",
      " [32.25163453]\n",
      " [20.28622253]\n",
      " [24.36866259]\n",
      " [17.75890226]\n",
      " [20.85672314]\n",
      " [25.66704506]\n",
      " [32.21030543]\n",
      " [23.50919576]\n",
      " [18.78452275]\n",
      " [43.13693656]\n",
      " [33.26921983]\n",
      " [31.06876077]\n",
      " [28.44407579]\n",
      " [21.22184734]\n",
      " [28.36239784]\n",
      " [16.55154145]\n",
      " [17.78704167]\n",
      " [23.37420311]\n",
      " [14.70674806]\n",
      " [ 5.7188168 ]\n",
      " [20.56082039]\n",
      " [26.70028719]\n",
      " [21.73079651]\n",
      " [16.34624507]\n",
      " [18.49845624]\n",
      " [14.01620217]\n",
      " [31.141191  ]\n",
      " [25.86631176]\n",
      " [29.1512625 ]\n",
      " [20.51159096]\n",
      " [14.87458307]\n",
      " [19.33524994]\n",
      " [ 9.72457922]\n",
      " [12.6696174 ]\n",
      " [22.46317339]\n",
      " [13.66023553]\n",
      " [ 8.59789158]\n",
      " [21.60127079]\n",
      " [13.10481103]\n",
      " [25.86938838]\n",
      " [37.27559146]\n",
      " [39.01765782]\n",
      " [29.37021375]\n",
      " [17.50026532]\n",
      " [30.81419745]\n",
      " [38.58858424]\n",
      " [21.07782312]\n",
      " [18.34367603]\n",
      " [23.76169787]\n",
      " [19.77165553]\n",
      " [18.20665226]\n",
      " [12.26634119]\n",
      " [16.99245572]\n",
      " [19.76881739]\n",
      " [25.88708519]\n",
      " [27.66648524]\n",
      " [17.67383055]\n",
      " [25.86774257]\n",
      " [16.45757722]\n",
      " [11.01477124]\n",
      " [36.06785053]\n",
      " [17.06758209]\n",
      " [23.18599954]\n",
      " [22.58872395]\n",
      " [24.66593603]\n",
      " [15.12087201]\n",
      " [20.62891813]\n",
      " [44.15424319]\n",
      " [ 6.8173011 ]\n",
      " [18.23027382]\n",
      " [33.64201008]\n",
      " [16.30045843]\n",
      " [24.04773662]\n",
      " [27.35814262]\n",
      " [20.76534506]\n",
      " [11.69097237]\n",
      " [39.95581235]\n",
      " [25.14800809]\n",
      " [21.27709574]\n",
      " [18.20296929]\n",
      " [25.29764447]\n",
      " [31.56291453]\n",
      " [45.01188939]\n",
      " [17.71145825]\n",
      " [19.32356626]\n",
      " [21.05547495]\n",
      " [40.32393145]\n",
      " [ 9.40651831]\n",
      " [22.0088279 ]\n",
      " [17.55736215]\n",
      " [23.83681969]\n",
      " [ 9.7005063 ]\n",
      " [20.66806557]\n",
      " [ 4.96908956]\n",
      " [17.28743047]\n",
      " [18.4142715 ]\n",
      " [ 9.82427674]\n",
      " [21.49923807]\n",
      " [15.93273056]\n",
      " [29.27771601]\n",
      " [42.35596109]\n",
      " [28.28817851]\n",
      " [20.12499276]\n",
      " [37.74157751]\n",
      " [ 9.00776432]\n",
      " [28.87325503]\n",
      " [15.92503291]\n",
      " [22.51245567]\n",
      " [20.87805849]\n",
      " [17.68089395]\n",
      " [15.43859547]\n",
      " [18.61594949]\n",
      " [28.47441046]\n",
      " [18.13625103]\n",
      " [28.2863558 ]\n",
      " [21.35658455]\n",
      " [22.62373659]\n",
      " [18.57999331]\n",
      " [14.17767033]\n",
      " [29.80059541]\n",
      " [31.01278796]\n",
      " [15.35181956]\n",
      " [17.27933349]\n",
      " [21.96058556]\n",
      " [41.87145806]\n",
      " [24.08736702]\n",
      " [12.18187103]\n",
      " [31.47769   ]\n",
      " [37.82845087]\n",
      " [23.17765895]\n",
      " [26.359083  ]\n",
      " [42.01568696]\n",
      " [15.57597116]\n",
      " [23.89279453]\n",
      " [13.36516341]\n",
      " [20.40028806]\n",
      " [39.6848105 ]\n",
      " [31.2683817 ]\n",
      " [23.17011091]\n",
      " [16.23621737]\n",
      " [14.55327186]\n",
      " [ 9.02949065]\n",
      " [35.02079775]\n",
      " [18.86366826]\n",
      " [32.39214709]\n",
      " [19.58699283]\n",
      " [14.93564028]\n",
      " [20.80489855]\n",
      " [20.29001971]\n",
      " [28.77804067]\n",
      " [24.14241798]\n",
      " [49.96314893]\n",
      " [11.67492188]\n",
      " [16.20703999]\n",
      " [25.9514039 ]\n",
      " [19.70488669]\n",
      " [21.5364736 ]\n",
      " [30.03765588]\n",
      " [ 8.02863282]\n",
      " [27.15885568]\n",
      " [17.90653104]\n",
      " [25.85075892]\n",
      " [28.2646104 ]\n",
      " [21.4697095 ]\n",
      " [12.25523041]\n",
      " [41.35828421]\n",
      " [17.96280428]\n",
      " [17.3735829 ]\n",
      " [20.86049234]\n",
      " [21.66980266]\n",
      " [32.29751511]\n",
      " [14.4303934 ]\n",
      " [30.82952565]\n",
      " [19.94763761]\n",
      " [27.13523929]\n",
      " [14.75008822]\n",
      " [19.12954805]\n",
      " [28.08453982]\n",
      " [20.858484  ]\n",
      " [31.89140194]\n",
      " [20.05927824]\n",
      " [20.78194762]\n",
      " [31.9765592 ]\n",
      " [26.70251763]\n",
      " [20.99105388]\n",
      " [24.19315084]\n",
      " [47.1593132 ]\n",
      " [24.64643143]\n",
      " [25.10668682]\n",
      " [18.79815273]\n",
      " [30.69826857]\n",
      " [22.58764237]\n",
      " [30.86119291]\n",
      " [18.14321284]\n",
      " [22.08639423]\n",
      " [14.61088826]\n",
      " [23.81684684]\n",
      " [18.18330875]\n",
      " [16.13153886]\n",
      " [14.28264795]\n",
      " [14.05021375]\n",
      " [30.28357203]\n",
      " [20.70565765]\n",
      " [13.12431817]\n",
      " [14.91211845]\n",
      " [27.69166878]\n",
      " [15.66927315]\n",
      " [15.79233314]\n",
      " [26.1977955 ]\n",
      " [21.59479038]\n",
      " [21.97264311]\n",
      " [28.79215822]\n",
      " [19.25486423]\n",
      " [30.69326341]\n",
      " [18.72949001]\n",
      " [23.19104717]\n",
      " [19.41538017]\n",
      " [32.30223189]\n",
      " [ 9.15952998]\n",
      " [34.84373049]\n",
      " [40.96017677]\n",
      " [20.46387577]\n",
      " [20.89428558]\n",
      " [15.05405428]\n",
      " [32.53025031]\n",
      " [18.56348125]\n",
      " [19.90485475]\n",
      " [28.0977535 ]\n",
      " [15.75328151]\n",
      " [21.39351259]\n",
      " [17.20005931]\n",
      " [20.72342744]\n",
      " [22.85767335]\n",
      " [11.73377369]\n",
      " [32.34161778]\n",
      " [25.00642096]\n",
      " [24.60531854]\n",
      " [29.12776909]\n",
      " [22.91338585]\n",
      " [24.24503042]\n",
      " [ 7.09950304]\n",
      " [31.58263796]\n",
      " [21.37759106]\n",
      " [33.63699441]\n",
      " [18.4366235 ]\n",
      " [25.88255753]\n",
      " [19.47071263]\n",
      " [32.98758206]\n",
      " [33.7772885 ]\n",
      " [19.28401404]\n",
      " [30.90973205]\n",
      " [10.78599849]\n",
      " [23.02994509]\n",
      " [11.63305168]\n",
      " [26.895297  ]\n",
      " [41.31083011]\n",
      " [32.910541  ]\n",
      " [14.82736557]\n",
      " [23.18117353]\n",
      " [18.67161248]\n",
      " [21.23965837]\n",
      " [32.61006209]\n",
      " [28.19302904]\n",
      " [24.27591356]\n",
      " [17.42739195]\n",
      " [21.90664528]\n",
      " [ 8.32032529]\n",
      " [11.80075762]\n",
      " [19.82039016]\n",
      " [25.83076311]\n",
      " [12.6109972 ]\n",
      " [31.42050589]\n",
      " [20.79152574]\n",
      " [16.70300752]\n",
      " [18.29932921]\n",
      " [27.30820913]\n",
      " [13.46572542]\n",
      " [19.25683248]]\n",
      "y_hat_test:  [[25.73743972]\n",
      " [37.86664051]\n",
      " [18.00577502]\n",
      " [27.29049036]\n",
      " [18.89847813]\n",
      " [20.79974088]\n",
      " [15.37089119]\n",
      " [16.19903046]\n",
      " [20.97593636]\n",
      " [19.769035  ]\n",
      " [19.32728132]\n",
      " [14.89370217]\n",
      " [ 1.10058436]\n",
      " [19.87116861]\n",
      " [18.6134343 ]\n",
      " [25.14655687]\n",
      " [17.52010111]\n",
      " [ 8.65992938]\n",
      " [40.36060918]\n",
      " [18.28390886]\n",
      " [26.77350066]\n",
      " [27.01613297]\n",
      " [11.86789936]\n",
      " [25.87448769]\n",
      " [18.48805176]\n",
      " [14.51810329]\n",
      " [22.04092585]\n",
      " [14.08123481]\n",
      " [18.81959655]\n",
      " [18.60950749]\n",
      " [17.66103168]\n",
      " [26.51660304]\n",
      " [27.2283862 ]\n",
      " [20.94477967]\n",
      " [14.64912554]\n",
      " [16.87070097]\n",
      " [34.98136228]\n",
      " [20.84295228]\n",
      " [20.44237299]\n",
      " [24.62143484]\n",
      " [13.05556139]\n",
      " [28.72686609]\n",
      " [41.51769397]\n",
      " [16.21990222]\n",
      " [25.49678745]\n",
      " [17.49646012]\n",
      " [14.23862183]\n",
      " [26.54237706]\n",
      " [18.43701705]\n",
      " [31.1289198 ]\n",
      " [17.79725577]\n",
      " [32.66322553]\n",
      " [16.13757223]\n",
      " [28.57832129]\n",
      " [40.10884984]\n",
      " [22.43841365]\n",
      " [19.64972593]\n",
      " [35.64450422]\n",
      " [23.28879185]\n",
      " [12.07276452]\n",
      " [23.3209336 ]\n",
      " [31.83496644]\n",
      " [34.21071576]\n",
      " [16.84534497]\n",
      " [26.95039616]\n",
      " [13.57130124]\n",
      " [20.683122  ]\n",
      " [26.23086968]\n",
      " [31.81101954]\n",
      " [10.99555813]\n",
      " [16.87794474]\n",
      " [27.8787683 ]\n",
      " [12.50698393]\n",
      " [24.45038658]\n",
      " [21.98455505]\n",
      " [11.40521641]\n",
      " [21.85930793]\n",
      " [38.02158069]\n",
      " [19.30456959]\n",
      " [12.47557361]\n",
      " [21.36940359]\n",
      " [12.39931351]\n",
      " [19.76584422]\n",
      " [11.07310124]\n",
      " [21.41149241]\n",
      " [29.18280025]\n",
      " [18.79817576]\n",
      " [28.00623567]\n",
      " [27.81091467]\n",
      " [22.06457642]\n",
      " [22.18693292]\n",
      " [ 8.01899007]\n",
      " [22.77536398]\n",
      " [16.63024904]\n",
      " [18.07397356]\n",
      " [23.70631094]\n",
      " [26.40779004]\n",
      " [ 1.58549621]\n",
      " [14.37113602]\n",
      " [14.38827342]\n",
      " [19.12632828]\n",
      " [23.61303337]]\n"
     ]
    }
   ],
   "source": [
    "# Calculate predictions on training and test sets\n",
    "y_hat_train = linreg.predict(X_train)\n",
    "y_hat_test = linreg.predict(X_test)\n",
    "print('y_hat_train: ',y_hat_train)\n",
    "print('y_hat_test: ', y_hat_test)"
   ]
  },
  {
   "cell_type": "markdown",
   "metadata": {},
   "source": [
    "### Calculate training and test residuals"
   ]
  },
  {
   "cell_type": "code",
   "execution_count": 8,
   "metadata": {},
   "outputs": [],
   "source": [
    "# Calculate residuals\n",
    "train_residuals = y_hat_train - y_train\n",
    "test_residuals = y_hat_test - y_test"
   ]
  },
  {
   "cell_type": "markdown",
   "metadata": {},
   "source": [
    "### Calculate the Mean Squared Error (MSE)\n",
    "\n",
    "A good way to compare overall performance is to compare the mean squarred error for the predicted values on the training and test sets."
   ]
  },
  {
   "cell_type": "code",
   "execution_count": 9,
   "metadata": {},
   "outputs": [],
   "source": [
    "# Import mean_squared_error from sklearn.metrics\n",
    "from sklearn.metrics import mean_squared_error"
   ]
  },
  {
   "cell_type": "code",
   "execution_count": 10,
   "metadata": {},
   "outputs": [
    {
     "name": "stdout",
     "output_type": "stream",
     "text": [
      "Train Mean Squarred Error: 21.371163624945574\n",
      "Test Mean Squarred Error: 23.476104314750756\n"
     ]
    }
   ],
   "source": [
    "# Calculate training and test MSE\n",
    "train_mse = mean_squared_error(y_train, y_hat_train)\n",
    "test_mse = mean_squared_error(y_test, y_hat_test)\n",
    "print('Train Mean Squarred Error:', train_mse)\n",
    "print('Test Mean Squarred Error:', test_mse)"
   ]
  },
  {
   "cell_type": "markdown",
   "metadata": {},
   "source": [
    "If your test error is substantially worse than the train error, this is a sign that the model doesn't generalize well to future cases."
   ]
  },
  {
   "cell_type": "markdown",
   "metadata": {},
   "source": [
    "One simple way to demonstrate overfitting and underfitting is to alter the size of our train-test split. By default, scikit-learn allocates 25% of the data to the test set and 75% to the training set. Fitting a model on only 10% of the data is apt to lead to underfitting, while training a model on 99% of the data is apt to lead to overfitting."
   ]
  },
  {
   "cell_type": "markdown",
   "metadata": {},
   "source": [
    "# Evaluate the effect of train-test split size\n",
    "\n",
    "Iterate over a range of train-test split sizes from .5 to .95. For each of these, generate a new train/test split sample. Fit a model to the training sample and calculate both the training error and the test error (mse) for each of these splits. Plot these two curves (train error vs. training size and test error vs. training size) on a graph."
   ]
  },
  {
   "cell_type": "code",
   "execution_count": 11,
   "metadata": {},
   "outputs": [
    {
     "data": {
      "image/png": "[encoded data removed]",
      "text/plain": [
       "<Figure size 432x288 with 1 Axes>"
      ]
     },
     "metadata": {
      "needs_background": "light"
     },
     "output_type": "display_data"
    }
   ],
   "source": [
    "np.random.seed(11)\n",
    "train_err = []\n",
    "test_err = []\n",
    "t_sizes = list(range(5,100,5))\n",
    "for testsize in t_sizes:\n",
    "    X_train, X_test, y_train, y_test = train_test_split(X,y,test_size = testsize/100)\n",
    "    linreg.fit(X_train, y_train)\n",
    "    y_hat_train = linreg.predict(X_train)\n",
    "    y_hat_test = linreg.predict(X_test)\n",
    "    train_err.append(mean_squared_error(y_train, y_hat_train))\n",
    "    test_err.append(mean_squared_error(y_test, y_hat_test))\n",
    "plt.scatter(t_sizes, train_err, label = \"Training Error\")\n",
    "plt.scatter(t_sizes, test_err, label = \"Test Error\")\n",
    "plt.legend()\n",
    "plt.show()"
   ]
  },
  {
   "cell_type": "code",
   "execution_count": 12,
   "metadata": {
    "scrolled": true
   },
   "outputs": [
    {
     "data": {
      "text/plain": [
       "<matplotlib.legend.Legend at 0x1a24d6cef0>"
      ]
     },
     "execution_count": 12,
     "metadata": {},
     "output_type": "execute_result"
    },
    {
     "data": {
      "image/png": "[encoded data removed]",
      "text/plain": [
       "<matplotlib.figure.Figure at 0x1a217f2e48>"
      ]
     },
     "metadata": {},
     "output_type": "display_data"
    }
   ],
   "source": [
    "#answer\n",
    "# import random\n",
    "# random.seed(11)\n",
    "\n",
    "# train_err = []\n",
    "# test_err = []\n",
    "# t_sizes = list(range(5,100,5))\n",
    "# for t_size in t_sizes:\n",
    "#     X_train, X_test, y_train, y_test = train_test_split(X, y, test_size=t_size/100)\n",
    "#     linreg.fit(X_train, y_train)\n",
    "#     y_hat_train = linreg.predict(X_train)\n",
    "#     y_hat_test = linreg.predict(X_test)\n",
    "#     train_err.append(mean_squared_error(y_train, y_hat_train))\n",
    "#     test_err.append(mean_squared_error(y_test, y_hat_test))\n",
    "# plt.scatter(t_sizes, train_err, label='Training Error')\n",
    "# plt.scatter(t_sizes, test_err, label='Testing Error')\n",
    "# plt.legend()"
   ]
  },
  {
   "cell_type": "markdown",
   "metadata": {},
   "source": [
    "# Evaluate the effect of train-test split size: Extension\n",
    "\n",
    "Repeat the previous example, but for each train-test split size, generate 100 iterations of models/errors and save the average train/test error. This will help account for any particularly good/bad models that might have resulted from poor/good splits in the data. "
   ]
  },
  {
   "cell_type": "code",
   "execution_count": 13,
   "metadata": {},
   "outputs": [
    {
     "data": {
      "image/png": "[encoded data removed]",
      "text/plain": [
       "<Figure size 432x288 with 1 Axes>"
      ]
     },
     "metadata": {
      "needs_background": "light"
     },
     "output_type": "display_data"
    }
   ],
   "source": [
    "np.random.seed(11)\n",
    "train_err = []\n",
    "test_err = []\n",
    "t_sizes = list(range(5,100,5))\n",
    "for testsize in t_sizes:\n",
    "    temp_train_err = []\n",
    "    temp_test_err = []\n",
    "    for i in range(100):\n",
    "        X_train, X_test, y_train, y_test = train_test_split(X,y,test_size = testsize/100)\n",
    "        linreg.fit(X_train, y_train)\n",
    "        y_hat_train = linreg.predict(X_train)\n",
    "        y_hat_test = linreg.predict(X_test)\n",
    "        temp_train_err.append(mean_squared_error(y_train, y_hat_train))\n",
    "        temp_test_err.append(mean_squared_error(y_test, y_hat_test))\n",
    "    train_err.append(np.mean(temp_train_err))\n",
    "    test_err.append(np.mean(temp_test_err))\n",
    "plt.scatter(t_sizes, train_err, label = \"Training Error\")\n",
    "plt.scatter(t_sizes, test_err, label = \"Test Error\")\n",
    "plt.legend()\n",
    "plt.show()"
   ]
  },
  {
   "cell_type": "code",
   "execution_count": 13,
   "metadata": {},
   "outputs": [
    {
     "data": {
      "text/plain": [
       "<matplotlib.legend.Legend at 0x1a26e93438>"
      ]
     },
     "execution_count": 13,
     "metadata": {},
     "output_type": "execute_result"
    },
    {
     "data": {
      "image/png": "[encoded data removed]",
      "text/plain": [
       "<matplotlib.figure.Figure at 0x1a217d3da0>"
      ]
     },
     "metadata": {},
     "output_type": "display_data"
    }
   ],
   "source": [
    "#answer\n",
    "# random.seed(8)\n",
    "\n",
    "# train_err = []\n",
    "# test_err = []\n",
    "# t_sizes = list(range(5,100,5))\n",
    "# for t_size in t_sizes:\n",
    "#     temp_train_err = []\n",
    "#     temp_test_err = []\n",
    "#     for i in range(100):\n",
    "#         X_train, X_test, y_train, y_test = train_test_split(X, y, test_size=t_size/100)\n",
    "#         linreg.fit(X_train, y_train)\n",
    "#         y_hat_train = linreg.predict(X_train)\n",
    "#         y_hat_test = linreg.predict(X_test)\n",
    "#         temp_train_err.append(mean_squared_error(y_train, y_hat_train))\n",
    "#         temp_test_err.append(mean_squared_error(y_test, y_hat_test))\n",
    "#     train_err.append(np.mean(temp_train_err))\n",
    "#     test_err.append(np.mean(temp_test_err))\n",
    "# plt.scatter(t_sizes, train_err, label='Training Error')\n",
    "# plt.scatter(t_sizes, test_err, label='Testing Error')\n",
    "# plt.legend()"
   ]
  },
  {
   "cell_type": "markdown",
   "metadata": {},
   "source": [
    "What's happening here? Evaluate your result!"
   ]
  },
  {
   "cell_type": "markdown",
   "metadata": {},
   "source": [
    "##  Summary "
   ]
  },
  {
   "cell_type": "markdown",
   "metadata": {},
   "source": [
    "Congratulations! You now practiced your knowledge of MSE and used your train-test split skills to validate your model."
   ]
  }
 ],
 "metadata": {
  "kernelspec": {
   "display_name": "Python 3",
   "language": "python",
   "name": "python3"
  },
  "language_info": {
   "codemirror_mode": {
    "name": "ipython",
    "version": 3
   },
   "file_extension": ".py",
   "mimetype": "text/x-python",
   "name": "python",
   "nbconvert_exporter": "python",
   "pygments_lexer": "ipython3",
   "version": "3.6.9"
  }
 },
 "nbformat": 4,
 "nbformat_minor": 2
}
